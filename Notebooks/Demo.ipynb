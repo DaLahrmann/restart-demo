{
 "cells": [
  {
   "cell_type": "markdown",
   "id": "c25c3770-e7a0-4b3a-956b-4a3aea41d5d2",
   "metadata": {},
   "source": [
    "# Python Recap"
   ]
  },
  {
   "cell_type": "code",
   "execution_count": 39,
   "id": "21eae2a9-0c7e-4311-9736-7354684b0002",
   "metadata": {
    "tags": []
   },
   "outputs": [
    {
     "data": {
      "text/plain": [
       "\"Hello 'World' 😀\""
      ]
     },
     "execution_count": 39,
     "metadata": {},
     "output_type": "execute_result"
    }
   ],
   "source": [
    "# We use quotes or double quotes to define strings\n",
    "x = \"Hello 'World' 😀\" # 'Hello World'\n",
    "x"
   ]
  },
  {
   "cell_type": "code",
   "execution_count": 44,
   "id": "1e300d2c-2de2-4349-ac60-99673cb34397",
   "metadata": {
    "tags": []
   },
   "outputs": [
    {
     "data": {
      "text/plain": [
       "'H'"
      ]
     },
     "execution_count": 44,
     "metadata": {},
     "output_type": "execute_result"
    }
   ],
   "source": [
    "# Strings (in python) are a list of characters\n",
    "\n",
    "# every character USED to be a 8bit = 1byte integer but that \n",
    "# created a lot of problems with non-english languages.\n",
    "# The used encoding was called ASCII.\n",
    "\n",
    "# Nowadays UNICODE is used, which can handle non-english alphabets\n",
    "# but we no longer have the guarantee that a single character is \n",
    "# a 8 bit number.\n",
    "x[0]"
   ]
  },
  {
   "cell_type": "code",
   "execution_count": 47,
   "id": "ecb26ff3-a49a-415b-88d6-5183fbcbfd93",
   "metadata": {
    "tags": []
   },
   "outputs": [
    {
     "data": {
      "text/plain": [
       "'Hell'"
      ]
     },
     "execution_count": 47,
     "metadata": {},
     "output_type": "execute_result"
    }
   ],
   "source": [
    "x[0:4] # x[0],x[1]"
   ]
  },
  {
   "cell_type": "code",
   "execution_count": 51,
   "id": "a792d626-8277-4be4-9ee3-84a7b500d6d6",
   "metadata": {
    "tags": []
   },
   "outputs": [
    {
     "data": {
      "text/plain": [
       "\"ld' 😀\""
      ]
     },
     "execution_count": 51,
     "metadata": {},
     "output_type": "execute_result"
    }
   ],
   "source": [
    "x[-5:]"
   ]
  },
  {
   "cell_type": "code",
   "execution_count": 43,
   "id": "29dc909a-b6b5-4e3a-8c1b-544e20787c2a",
   "metadata": {
    "tags": []
   },
   "outputs": [
    {
     "data": {
      "text/plain": [
       "['H', 'e', 'l']"
      ]
     },
     "execution_count": 43,
     "metadata": {},
     "output_type": "execute_result"
    }
   ],
   "source": [
    "[\"H\",\"e\",\"l\"] "
   ]
  },
  {
   "cell_type": "code",
   "execution_count": null,
   "id": "e5ff9cc2-2aaf-44f0-864f-38b5e8dfbb7c",
   "metadata": {},
   "outputs": [],
   "source": []
  },
  {
   "cell_type": "code",
   "execution_count": 4,
   "id": "fe807352-f7a4-4d63-aa2d-e5ebd497cbd0",
   "metadata": {
    "tags": []
   },
   "outputs": [],
   "source": [
    "# we can define integers (whole numbers)\n",
    "i = -1     # both negative and positive is possible\n",
    "u = 0xF3AB # we can also specify it in other formats (e.g. Hexadecimal)"
   ]
  },
  {
   "cell_type": "code",
   "execution_count": 6,
   "id": "d903848e-f775-4ee2-ac44-3f7f5a615c89",
   "metadata": {
    "tags": []
   },
   "outputs": [
    {
     "data": {
      "text/plain": [
       "64188"
      ]
     },
     "execution_count": 6,
     "metadata": {},
     "output_type": "execute_result"
    }
   ],
   "source": []
  },
  {
   "cell_type": "code",
   "execution_count": 8,
   "id": "7a3a2831-5737-43de-b6b6-37acb38b5a7e",
   "metadata": {
    "tags": []
   },
   "outputs": [
    {
     "data": {
      "text/plain": [
       "3"
      ]
     },
     "execution_count": 8,
     "metadata": {},
     "output_type": "execute_result"
    }
   ],
   "source": [
    "10 / 3  # = 3.333 -> this creates a result of type float\n",
    "10 // 3 # = 3     -> this creates a result of type int"
   ]
  },
  {
   "cell_type": "code",
   "execution_count": 17,
   "id": "52c3fd7d-c992-4732-ba9e-8d1ef6f33afd",
   "metadata": {
    "tags": []
   },
   "outputs": [],
   "source": [
    "a, b = True, False # we can use booleans as well"
   ]
  },
  {
   "cell_type": "code",
   "execution_count": 15,
   "id": "b8a24d7d-7380-418a-b0ce-f048fa6e0e1b",
   "metadata": {
    "tags": []
   },
   "outputs": [
    {
     "data": {
      "text/plain": [
       "True"
      ]
     },
     "execution_count": 15,
     "metadata": {},
     "output_type": "execute_result"
    }
   ],
   "source": [
    "a == b # checks if equal\n",
    "a != b # checks if NOT equal"
   ]
  },
  {
   "cell_type": "code",
   "execution_count": 144,
   "id": "604c0763-0fff-434b-a24b-f3540b74f0e0",
   "metadata": {
    "tags": []
   },
   "outputs": [],
   "source": [
    "# a == b # this checks for equality \n",
    "a = b # this is an assignment, we assign the value of b to the variable a"
   ]
  },
  {
   "cell_type": "markdown",
   "id": "43f57727-c68b-460f-81ca-4ab275613cc5",
   "metadata": {},
   "source": [
    "## Collections\n",
    "\n",
    "- tuples\n",
    "- lists\n",
    "- dictionaries"
   ]
  },
  {
   "cell_type": "code",
   "execution_count": 21,
   "id": "2dfff961-5b18-4296-90cf-7286599a8874",
   "metadata": {
    "tags": []
   },
   "outputs": [
    {
     "data": {
      "text/plain": [
       "(1.0, 2)"
      ]
     },
     "execution_count": 21,
     "metadata": {},
     "output_type": "execute_result"
    }
   ],
   "source": [
    "# define a tuple - the parantheses are optional in this case\n",
    "y = (1.0, 2) \n",
    "y"
   ]
  },
  {
   "cell_type": "code",
   "execution_count": 29,
   "id": "23a0edbc-6b2e-4ace-9aa8-4079a6634c47",
   "metadata": {
    "tags": []
   },
   "outputs": [
    {
     "data": {
      "text/plain": [
       "1.0"
      ]
     },
     "execution_count": 29,
     "metadata": {},
     "output_type": "execute_result"
    }
   ],
   "source": [
    "y_1 = y[0]\n",
    "y_1"
   ]
  },
  {
   "cell_type": "code",
   "execution_count": 30,
   "id": "791713b1-98fb-467a-8942-14c4c0dbd32d",
   "metadata": {
    "tags": []
   },
   "outputs": [
    {
     "ename": "TypeError",
     "evalue": "'tuple' object does not support item assignment",
     "output_type": "error",
     "traceback": [
      "\u001b[0;31m---------------------------------------------------------------------------\u001b[0m",
      "\u001b[0;31mTypeError\u001b[0m                                 Traceback (most recent call last)",
      "Cell \u001b[0;32mIn[30], line 1\u001b[0m\n\u001b[0;32m----> 1\u001b[0m \u001b[43my\u001b[49m\u001b[43m[\u001b[49m\u001b[38;5;241;43m0\u001b[39;49m\u001b[43m]\u001b[49m \u001b[38;5;241m=\u001b[39m \u001b[38;5;241m2.0\u001b[39m\n",
      "\u001b[0;31mTypeError\u001b[0m: 'tuple' object does not support item assignment"
     ]
    }
   ],
   "source": [
    "y[0] = 2.0 # tuples are immutable!"
   ]
  },
  {
   "cell_type": "code",
   "execution_count": 31,
   "id": "d39026cb-8ef8-45eb-bac8-f706b03e562a",
   "metadata": {
    "tags": []
   },
   "outputs": [
    {
     "data": {
      "text/plain": [
       "[1, 2, 3, 'hello']"
      ]
     },
     "execution_count": 31,
     "metadata": {},
     "output_type": "execute_result"
    }
   ],
   "source": [
    "# Similiar to tuples, we have lists\n",
    "# These are also often called 'arrays'\n",
    "L = [1,2,3,\"hello\"] \n",
    "L"
   ]
  },
  {
   "cell_type": "code",
   "execution_count": 34,
   "id": "ebd27b41-7ab0-4122-a1b4-ef463832e6b5",
   "metadata": {
    "tags": []
   },
   "outputs": [
    {
     "data": {
      "text/plain": [
       "[10, 2, 3, 'hello']"
      ]
     },
     "execution_count": 34,
     "metadata": {},
     "output_type": "execute_result"
    }
   ],
   "source": [
    "L[0] = 10\n",
    "L"
   ]
  },
  {
   "cell_type": "code",
   "execution_count": 80,
   "id": "58f04415-843f-4adc-b403-19b22e74799f",
   "metadata": {
    "tags": []
   },
   "outputs": [
    {
     "data": {
      "text/plain": [
       "{'some-key': 2, 'hello': 3}"
      ]
     },
     "execution_count": 80,
     "metadata": {},
     "output_type": "execute_result"
    }
   ],
   "source": [
    "# The third important container is a dictionary.\n",
    "# Its a key value store\n",
    "D = {\n",
    "    \"some-key\": 2,\n",
    "    \"hello\": 3\n",
    "}\n",
    "\n",
    "# Allowed values: Anything\n",
    "# Allowed keys: Anything that is \"hashable\"\n",
    "#  input -> hash-function -> some value\n",
    "#  HASH-Maps (or just maps)\n",
    "D"
   ]
  },
  {
   "cell_type": "code",
   "execution_count": null,
   "id": "1369e6e6-49a0-44c4-836e-9bf943ac8755",
   "metadata": {},
   "outputs": [],
   "source": []
  },
  {
   "cell_type": "markdown",
   "id": "3bde8c72-03d7-47e8-9d01-5de6c0d4dbab",
   "metadata": {},
   "source": [
    "## Arithmetic"
   ]
  },
  {
   "cell_type": "code",
   "execution_count": 52,
   "id": "0cc2daed-839a-49c3-a0fc-3179ebd71629",
   "metadata": {
    "tags": []
   },
   "outputs": [
    {
     "data": {
      "text/plain": [
       "4"
      ]
     },
     "execution_count": 52,
     "metadata": {},
     "output_type": "execute_result"
    }
   ],
   "source": [
    "\n",
    "1 + 2  # = 3\n",
    "1 - 2  # = -1\n",
    "2 * 2  # = 4\n",
    "2 / 2  # = 1.0\n",
    "2 ** 3 # 2^3 = 8"
   ]
  },
  {
   "cell_type": "code",
   "execution_count": 53,
   "id": "2ac6dd60-a7f7-46b4-af92-69aa648c22f0",
   "metadata": {
    "tags": []
   },
   "outputs": [
    {
     "data": {
      "text/plain": [
       "3"
      ]
     },
     "execution_count": 53,
     "metadata": {},
     "output_type": "execute_result"
    }
   ],
   "source": [
    "# 10 / 3 = 3 rest 1\n",
    "\n",
    "\n",
    "10 // 3 # = 3 (returns the quotient of the division)\n",
    "\n",
    "# To get the rest, we use the Modulo operator '%'\n",
    "10 % 3  # = 1 (returns the rest of the division)\n"
   ]
  },
  {
   "cell_type": "markdown",
   "id": "dae3d53a-e3bd-42a8-968d-137c032ff208",
   "metadata": {
    "tags": []
   },
   "source": [
    "## Conditionals"
   ]
  },
  {
   "cell_type": "code",
   "execution_count": 57,
   "id": "5f2f0484-edb5-4d20-881a-782b26d723f4",
   "metadata": {
    "tags": []
   },
   "outputs": [
    {
     "name": "stdout",
     "output_type": "stream",
     "text": [
      "a is not equal to b but b is equal to c\n",
      "but not this\n"
     ]
    }
   ],
   "source": [
    "c = False\n",
    "\n",
    "if a == b:\n",
    "    print(\"a is equal to b\")\n",
    "elif b == c:\n",
    "    print(\"a is not equal to b but b is equal to c\")\n",
    "else:\n",
    "    # start of ELSE block\n",
    "    print(\"a is not equal to b\")\n",
    "    print(\"this belongs to the ELSE\")\n",
    "    # end of ELSE block\n",
    "\n",
    "print(\"but not this\")"
   ]
  },
  {
   "cell_type": "markdown",
   "id": "bd516f0a-a6d1-4dd8-a13e-05a331d7a9e7",
   "metadata": {
    "tags": []
   },
   "source": [
    "## Loops"
   ]
  },
  {
   "cell_type": "code",
   "execution_count": 61,
   "id": "55349112-0cbf-4ab3-9f08-1edcdb0b3d08",
   "metadata": {
    "tags": []
   },
   "outputs": [
    {
     "name": "stdout",
     "output_type": "stream",
     "text": [
      "hello: i =  0\n",
      "hello: i =  1\n",
      "hello: i =  2\n",
      "hello: i =  3\n",
      "hello: i =  4\n",
      "hello: i =  5\n",
      "hello: i =  6\n",
      "hello: i =  7\n",
      "hello: i =  8\n",
      "hello: i =  9\n",
      "world\n"
     ]
    }
   ],
   "source": [
    "# Loops: Iterate or execute a statement multiple times\n",
    "\n",
    "# FOR LOOP: For a known number of iterations\n",
    "# for _ in _:\n",
    "# the second argument can be anything that is iteratable \n",
    "for i in range(0,10):\n",
    "    print(\"hello: i = \", i) \n",
    "print(\"world\")\n"
   ]
  },
  {
   "cell_type": "code",
   "execution_count": 63,
   "id": "dea33248-4b41-4817-b0c2-5534c82ddc7b",
   "metadata": {
    "tags": []
   },
   "outputs": [
    {
     "name": "stdout",
     "output_type": "stream",
     "text": [
      "2\n",
      "4\n",
      "6\n",
      "8\n",
      "10\n"
     ]
    }
   ],
   "source": [
    "L = [1,2,3,4,5] \n",
    "for l in L:\n",
    "    print(2 * l)"
   ]
  },
  {
   "cell_type": "code",
   "execution_count": 75,
   "id": "5b3ff548-8cdd-4a6e-84e4-b408de3499b9",
   "metadata": {
    "tags": []
   },
   "outputs": [
    {
     "name": "stdout",
     "output_type": "stream",
     "text": [
      "H\n",
      "e\n",
      "l\n",
      "l\n",
      "o\n",
      " \n",
      "'\n",
      "W\n",
      "o\n",
      "r\n",
      "l\n",
      "d\n",
      "'\n",
      " \n",
      "😀\n"
     ]
    }
   ],
   "source": [
    "for c in x:\n",
    "    print(c)"
   ]
  },
  {
   "cell_type": "code",
   "execution_count": 77,
   "id": "c87536ab-3a4c-444e-b99a-25d5293cf597",
   "metadata": {
    "tags": []
   },
   "outputs": [
    {
     "name": "stdout",
     "output_type": "stream",
     "text": [
      "waiting\n",
      "waiting\n",
      "waiting\n",
      "waiting\n",
      "waiting\n",
      "waiting\n",
      "waiting\n",
      "waiting\n",
      "waiting\n",
      "waiting\n",
      "done\n"
     ]
    }
   ],
   "source": [
    "# LOOP 2: WHILE:\n",
    "# Use it, when unclear how often something should be repeated\n",
    "\n",
    "x = 0\n",
    "# while _ :\n",
    "while x < 10:\n",
    "    print(\"waiting\")\n",
    "    x = x + 1\n",
    "print(\"done\")\n"
   ]
  },
  {
   "cell_type": "code",
   "execution_count": 132,
   "id": "0f1f8db4-8f55-4a3b-97a4-d39f743e539a",
   "metadata": {
    "tags": []
   },
   "outputs": [
    {
     "data": {
      "text/plain": [
       "[2, 4, 6]"
      ]
     },
     "execution_count": 132,
     "metadata": {},
     "output_type": "execute_result"
    }
   ],
   "source": [
    "# Loop 3: Variant of for loop\n",
    "\n",
    "\n",
    "# We can write the code below in a shorter notation\n",
    "some_list = [1,2,3]\n",
    "result = []\n",
    "for x in some_list:\n",
    "    result.append(2 * x)\n",
    "result"
   ]
  },
  {
   "cell_type": "code",
   "execution_count": 133,
   "id": "cdccfcf8-d943-4d04-97d3-0ecc67af41a5",
   "metadata": {
    "tags": []
   },
   "outputs": [
    {
     "data": {
      "text/plain": [
       "[2, 4, 6]"
      ]
     },
     "execution_count": 133,
     "metadata": {},
     "output_type": "execute_result"
    }
   ],
   "source": [
    "# This is the short form of the loop above\n",
    "# this is called list comprehension\n",
    "[2 * x for x in some_list]"
   ]
  },
  {
   "cell_type": "code",
   "execution_count": 81,
   "id": "dd7ab8cf-e71f-481c-9f0c-bf18f5fd9c74",
   "metadata": {
    "tags": []
   },
   "outputs": [
    {
     "data": {
      "text/plain": [
       "3"
      ]
     },
     "execution_count": 81,
     "metadata": {},
     "output_type": "execute_result"
    }
   ],
   "source": [
    "D[\"hello\"]"
   ]
  },
  {
   "cell_type": "markdown",
   "id": "98f7e191-0bef-4b4e-8ced-3a116f720394",
   "metadata": {
    "tags": []
   },
   "source": [
    "## Code readability\n"
   ]
  },
  {
   "cell_type": "code",
   "execution_count": null,
   "id": "0217b8d4-9793-4cd5-9515-4e60e82330d8",
   "metadata": {
    "tags": []
   },
   "outputs": [],
   "source": [
    "# Example: Hard to read code\n",
    "#  1) Unecessary parantheses\n",
    "#  2) too much in one expression\n",
    "#  3) unnecessary dictionary\n",
    "netCharge = (\n",
    "    +(sum({x: ((seqCount[x]*(10**pKR[x]))/((10**pH)+(10**pKR[x]))) \\\n",
    "    for x in ['k','h','r']}.values()))\n",
    "    -(sum({x: ((seqCount[x]*(10**pH))/((10**pH)+(10**pKR[x]))) \\\n",
    "    for x in ['y','c','d','e']}.values())))\n",
    "\n",
    "\n",
    "\n",
    "\n",
    "# Alternative 1\n",
    "# split it and dont use dictionaries\n",
    "posCharges = [(seqCount[x] * (10**pKR[x])) / ((10**pH) + (10**pKR[x])) for x in ['k','h','r']]\n",
    "negCharges = [(seqCount[x] * (10**pKR[x])) / ((10**pH) + (10**pKR[x])) for x in ['y','c','d','e']]\n",
    "netCharge = sum(posCharges) - sum(negCharges)\n",
    "\n",
    "\n",
    "# Alternative 2\n",
    "positiveChargedProteins = ['k','h','r']\n",
    "netCharge = 0\n",
    "for x in ['k','h','r','y','c','d','e']:\n",
    "    # calcule the charge for x\n",
    "    x_charge = seqCount[x] * 10**pKR[x] / (10**pH + 10**pKR[x])\n",
    "    \n",
    "    if x in positiveChargedProteins:\n",
    "        netCharge = netCharge + x_charge\n",
    "    else:\n",
    "        netCharge = netCharge - x_charge\n",
    "        \n"
   ]
  },
  {
   "cell_type": "markdown",
   "id": "077d0b03-5fb6-4cb3-b5e7-685fea27b58c",
   "metadata": {},
   "source": [
    "## Functions"
   ]
  },
  {
   "cell_type": "code",
   "execution_count": 197,
   "id": "e74b9fb0-5d1f-4875-84f9-c59a43b9eb9f",
   "metadata": {
    "tags": []
   },
   "outputs": [
    {
     "name": "stdout",
     "output_type": "stream",
     "text": [
      "hello:  21\n"
     ]
    }
   ],
   "source": [
    "# Functions are a way to reuse a block of code\n",
    "print(\"hello: \", 21) # we dont have to implement 'print' ourselfes!"
   ]
  },
  {
   "cell_type": "code",
   "execution_count": 198,
   "id": "7e09e961-6680-426e-b28e-1ced6c1f5ce8",
   "metadata": {
    "tags": []
   },
   "outputs": [],
   "source": [
    "#      function name\n",
    "#       |    input(s)\n",
    "#       |    |\n",
    "#       v    v\n",
    "def is_prime(n):\n",
    "    # Check if a number is prime (only divisible by 1 and itself)\n",
    "    # we do that by testing every number between 1 and itself\n",
    "    \n",
    "    # Example: 6\n",
    "    # Test: 6 % 2 == 0 -> not prime\n",
    "    \n",
    "    # Example 7:\n",
    "    # Test:\n",
    "    #  7 % 2 != 0\n",
    "    #  7 % 3 != 0\n",
    "    #  7 % 4 != 0\n",
    "    #  7 % 5 != 0\n",
    "    #  7 % 6 != 0\n",
    "    #\n",
    "    # 7 is prime!\n",
    "    for i in range(2,n):\n",
    "        if n % i == 0: # % = modulo operator, gives the rest of a division\n",
    "            return False # <-- return indicates that the function should stop here\n",
    "    \n",
    "    return True # <--- return indicates that the "
   ]
  },
  {
   "cell_type": "code",
   "execution_count": 201,
   "id": "1a014bd7-e91d-4e0d-b6c1-1a70ebb1b6a8",
   "metadata": {
    "tags": []
   },
   "outputs": [
    {
     "data": {
      "text/plain": [
       "True"
      ]
     },
     "execution_count": 201,
     "metadata": {},
     "output_type": "execute_result"
    }
   ],
   "source": [
    "is_prime(13)"
   ]
  },
  {
   "cell_type": "code",
   "execution_count": 210,
   "id": "12a9caac-444f-40d8-9911-1aff8025654a",
   "metadata": {
    "tags": []
   },
   "outputs": [
    {
     "data": {
      "text/plain": [
       "True"
      ]
     },
     "execution_count": 210,
     "metadata": {},
     "output_type": "execute_result"
    }
   ],
   "source": [
    "is_prime(11)"
   ]
  },
  {
   "cell_type": "code",
   "execution_count": 211,
   "id": "9ea1d58f-4563-4c8b-802b-a6b86fb9e9bf",
   "metadata": {
    "tags": []
   },
   "outputs": [],
   "source": []
  },
  {
   "cell_type": "code",
   "execution_count": null,
   "id": "e1683908-e120-4505-8d1d-6e27a1ee8073",
   "metadata": {},
   "outputs": [],
   "source": [
    "def fetch_large_dataset(filename):\n",
    "    import time\n",
    "    # Fetch a large dataset and write to a file    \n",
    "\n",
    "    # TODO: implement fetch\n",
    "    time.sleep(1)\n"
   ]
  },
  {
   "cell_type": "code",
   "execution_count": 212,
   "id": "7327c53e-1286-4cce-8ab3-0f2d6e7098fb",
   "metadata": {
    "tags": []
   },
   "outputs": [],
   "source": []
  },
  {
   "cell_type": "code",
   "execution_count": null,
   "id": "bf66d8d0-23b0-4c15-ae90-8d2b95fc9034",
   "metadata": {},
   "outputs": [],
   "source": []
  },
  {
   "cell_type": "code",
   "execution_count": 202,
   "id": "653746b8-174a-48bf-a054-9e3424a4ce3c",
   "metadata": {
    "tags": []
   },
   "outputs": [],
   "source": [
    "def my_addition(a, b):\n",
    "    return a + b"
   ]
  },
  {
   "cell_type": "code",
   "execution_count": 204,
   "id": "884bfde8-5119-4bf0-b374-aabb47622a20",
   "metadata": {
    "tags": []
   },
   "outputs": [
    {
     "data": {
      "text/plain": [
       "5"
      ]
     },
     "execution_count": 204,
     "metadata": {},
     "output_type": "execute_result"
    }
   ],
   "source": [
    "my_addition(b=3,a=2)"
   ]
  },
  {
   "cell_type": "code",
   "execution_count": 205,
   "id": "30f105e7-0020-41e8-bc81-67c7c3453164",
   "metadata": {
    "tags": []
   },
   "outputs": [],
   "source": [
    "y = my_addition(1,2) # y = 3 "
   ]
  },
  {
   "cell_type": "code",
   "execution_count": 187,
   "id": "82a6bc40-6a20-4516-930a-7f40bd0ed4ae",
   "metadata": {
    "tags": []
   },
   "outputs": [],
   "source": [
    "# Multiple inputs and outputs are also possible\n",
    "def pick_random(some_list, n_experiments=1):\n",
    "    \n",
    "    n = len(some_list)\n",
    "    indices = [random.randint(0,n-1) for _ in  range(n_experiments)]\n",
    "    elements = [some_list[ix] for ix in indices]\n",
    "    \n",
    "    return indices, elements"
   ]
  },
  {
   "cell_type": "code",
   "execution_count": 188,
   "id": "cd7dc082-0d3b-48c0-a898-ad859a76a25a",
   "metadata": {
    "tags": []
   },
   "outputs": [
    {
     "data": {
      "text/plain": [
       "([0], [1])"
      ]
     },
     "execution_count": 188,
     "metadata": {},
     "output_type": "execute_result"
    }
   ],
   "source": [
    "pick_random([1,-1])"
   ]
  },
  {
   "cell_type": "code",
   "execution_count": 189,
   "id": "ec833b7e-a488-4fab-ba03-2e31696d5ef8",
   "metadata": {
    "tags": []
   },
   "outputs": [
    {
     "data": {
      "text/plain": [
       "([0, 1], [1, -1])"
      ]
     },
     "execution_count": 189,
     "metadata": {},
     "output_type": "execute_result"
    }
   ],
   "source": [
    "pick_random([1,-1], n_experiments=2)"
   ]
  },
  {
   "cell_type": "code",
   "execution_count": 190,
   "id": "98b45402-276e-46f3-9a30-2a10c018b6c0",
   "metadata": {
    "tags": []
   },
   "outputs": [
    {
     "data": {
      "text/plain": [
       "([0, 1], [-1, 1])"
      ]
     },
     "execution_count": 190,
     "metadata": {},
     "output_type": "execute_result"
    }
   ],
   "source": [
    "pick_random(n_experiments=2, some_list=[-1,1])"
   ]
  },
  {
   "cell_type": "code",
   "execution_count": null,
   "id": "df3654f6-b6f5-46ec-a4d8-4eb50e57c275",
   "metadata": {},
   "outputs": [],
   "source": []
  },
  {
   "cell_type": "code",
   "execution_count": 206,
   "id": "dfa35594-5a1b-4f4a-aea2-0c6272a7f95c",
   "metadata": {
    "tags": []
   },
   "outputs": [],
   "source": [
    "import math"
   ]
  },
  {
   "cell_type": "code",
   "execution_count": 207,
   "id": "b91d8738-f1f7-46ca-8c63-9645e280bf74",
   "metadata": {
    "tags": []
   },
   "outputs": [
    {
     "data": {
      "text/plain": [
       "1"
      ]
     },
     "execution_count": 207,
     "metadata": {},
     "output_type": "execute_result"
    }
   ],
   "source": [
    "math.ceil(0.9)"
   ]
  },
  {
   "cell_type": "code",
   "execution_count": 208,
   "id": "558a4681-8239-4726-978b-e00dc3d1ef6a",
   "metadata": {
    "tags": []
   },
   "outputs": [
    {
     "data": {
      "text/plain": [
       "3"
      ]
     },
     "execution_count": 208,
     "metadata": {},
     "output_type": "execute_result"
    }
   ],
   "source": [
    "my_addition(1,2) # <-- this is a function"
   ]
  },
  {
   "cell_type": "code",
   "execution_count": 209,
   "id": "d8d1ad3c-07b5-4cb8-9480-4e099095482c",
   "metadata": {
    "tags": []
   },
   "outputs": [
    {
     "data": {
      "text/plain": [
       "'There are 10 apples'"
      ]
     },
     "execution_count": 209,
     "metadata": {},
     "output_type": "execute_result"
    }
   ],
   "source": [
    "\"There are {} apples\".format(10) # <-- a method (is a function bound to an object)"
   ]
  },
  {
   "cell_type": "code",
   "execution_count": null,
   "id": "979da9f8-7402-4f50-aa5d-d66910902c97",
   "metadata": {},
   "outputs": [],
   "source": []
  },
  {
   "cell_type": "code",
   "execution_count": 246,
   "id": "55976c8c-4670-4b66-8630-2e485903a336",
   "metadata": {
    "tags": []
   },
   "outputs": [],
   "source": [
    "alphabet = \"ABCDEFGHIJKLMNOPQRSTUVWXYZ\"\n",
    "alphabet2 = \"ABCDEFGHIJKLMNOPQRSTUVWXYZABCDEFGHIJKLMNOPQRSTUVWXYZ\""
   ]
  },
  {
   "cell_type": "code",
   "execution_count": 253,
   "id": "7cdcb3a0-4af9-415a-b4ae-3bb39ad05729",
   "metadata": {
    "tags": []
   },
   "outputs": [
    {
     "data": {
      "text/plain": [
       "2"
      ]
     },
     "execution_count": 253,
     "metadata": {},
     "output_type": "execute_result"
    }
   ],
   "source": [
    "key = 28 % 26 # / 26 -> rest\n",
    "key"
   ]
  },
  {
   "cell_type": "code",
   "execution_count": null,
   "id": "95c7bcb2-755b-49fc-89c9-719c3dba05a7",
   "metadata": {},
   "outputs": [],
   "source": []
  },
  {
   "cell_type": "code",
   "execution_count": null,
   "id": "a34e971c-2043-498c-9ceb-427fa2df1cba",
   "metadata": {},
   "outputs": [],
   "source": []
  },
  {
   "cell_type": "code",
   "execution_count": null,
   "id": "9ade1666-b843-4caa-8ba8-aa1af2a96f54",
   "metadata": {},
   "outputs": [],
   "source": []
  },
  {
   "cell_type": "code",
   "execution_count": null,
   "id": "7067e91d-7434-4a2e-a676-458239cb4734",
   "metadata": {},
   "outputs": [],
   "source": []
  },
  {
   "cell_type": "code",
   "execution_count": null,
   "id": "5314572d-2bdc-4ffb-9484-77f200d6b75c",
   "metadata": {},
   "outputs": [],
   "source": []
  },
  {
   "cell_type": "markdown",
   "id": "69a7c6c2-1de4-4ab9-b383-8725a8560fb6",
   "metadata": {
    "tags": []
   },
   "source": [
    "# Example: Fetch data and display it"
   ]
  },
  {
   "cell_type": "code",
   "execution_count": 113,
   "id": "cc4b6034-c1d6-4b30-8ac9-0e9f259231ec",
   "metadata": {
    "tags": []
   },
   "outputs": [],
   "source": [
    "import requests\n",
    "import datetime\n",
    "from datetime import datetime\n",
    "import matplotlib.pyplot as plt"
   ]
  },
  {
   "cell_type": "code",
   "execution_count": 104,
   "id": "ea62eb2a-383e-4157-95a9-5159d6fa2cac",
   "metadata": {
    "tags": []
   },
   "outputs": [],
   "source": [
    "def fetch_market_data():\n",
    "    l = \"https://api.awattar.at/v1/marketdata\"\n",
    "    response = requests.get(l)\n",
    "    if response.status_code != 200:\n",
    "        response.raise_for_status()\n",
    "    x = response.json()\n",
    "    return x['data']"
   ]
  },
  {
   "cell_type": "code",
   "execution_count": 110,
   "id": "4fdc1216-db09-40db-9985-34695c41d07a",
   "metadata": {
    "tags": []
   },
   "outputs": [],
   "source": [
    "def prep_data(X):\n",
    "    t1 = [datetime.utcfromtimestamp(x['start_timestamp']/ 1000)  for x in X]\n",
    "    t2 = [datetime.utcfromtimestamp(x['end_timestamp'] / 1000) for x in X]\n",
    "    p = [x['marketprice'] for x in X]\n",
    "    u = [x['unit'] for x in X]\n",
    "    return (t1,t2,p,u)"
   ]
  },
  {
   "cell_type": "code",
   "execution_count": 108,
   "id": "893d8f73-39aa-4728-bd1b-22602387305f",
   "metadata": {
    "tags": []
   },
   "outputs": [],
   "source": [
    "X = fetch_market_data()"
   ]
  },
  {
   "cell_type": "code",
   "execution_count": 116,
   "id": "ff27693d-0894-4c90-b747-e5fa2f990d44",
   "metadata": {
    "tags": []
   },
   "outputs": [],
   "source": [
    "t_starts, t_ends, prices, units = prep_data(X)"
   ]
  },
  {
   "cell_type": "code",
   "execution_count": 125,
   "id": "74bc2e61-214f-49a2-a88f-cc8a0046d7b0",
   "metadata": {
    "tags": []
   },
   "outputs": [
    {
     "data": {
      "image/png": "[encoded data removed]",
      "text/plain": [
       "<Figure size 640x480 with 1 Axes>"
      ]
     },
     "metadata": {},
     "output_type": "display_data"
    }
   ],
   "source": [
    "plt.plot(t_starts, prices)\n",
    "plt.xlabel(\"Date\")\n",
    "plt.ylabel(\"Price\")\n",
    "plt.show()"
   ]
  },
  {
   "cell_type": "markdown",
   "id": "7b1d2d22-7140-4ba8-9bb3-a887275dc8db",
   "metadata": {},
   "source": [
    "## Example 2: RSA Encryption\n",
    "\n",
    "In this example we show how to use functions to structure the code a little bit better"
   ]
  },
  {
   "cell_type": "markdown",
   "id": "d175765f-6e1d-492d-a5a5-8859201ccb7f",
   "metadata": {
    "tags": []
   },
   "source": [
    "## Questions"
   ]
  },
  {
   "cell_type": "markdown",
   "id": "71a4f813-ac6d-4a43-a681-50431388f8c2",
   "metadata": {},
   "source": [
    "> What does the \"f\" in front a string mean, e.g.: `f\"x = {x}\"`\n",
    "\n",
    "\n",
    "Short hand syntax to do \"string interpolation\" and formating. All occurences of the curly braces are replaced with the result"
   ]
  },
  {
   "cell_type": "code",
   "execution_count": 151,
   "id": "1fb0f8aa-1de9-4d8a-b238-233e1197467d",
   "metadata": {
    "tags": []
   },
   "outputs": [
    {
     "data": {
      "text/plain": [
       "'There are 10 apples'"
      ]
     },
     "execution_count": 151,
     "metadata": {},
     "output_type": "execute_result"
    }
   ],
   "source": [
    "x = 10\n",
    "f\"There are {x} apples\" # format strings"
   ]
  },
  {
   "cell_type": "code",
   "execution_count": 152,
   "id": "3222c297-817b-4084-b4fb-f7378f5ea6f4",
   "metadata": {
    "tags": []
   },
   "outputs": [
    {
     "data": {
      "text/plain": [
       "'There are 10 apples'"
      ]
     },
     "execution_count": 152,
     "metadata": {},
     "output_type": "execute_result"
    }
   ],
   "source": [
    "\"There are {} apples\".format(x)"
   ]
  },
  {
   "cell_type": "code",
   "execution_count": 153,
   "id": "229d7f41-0e62-4fff-9454-83ec952f9e72",
   "metadata": {
    "tags": []
   },
   "outputs": [
    {
     "data": {
      "text/plain": [
       "'There are 10 apples'"
      ]
     },
     "execution_count": 153,
     "metadata": {},
     "output_type": "execute_result"
    }
   ],
   "source": [
    "\"There are \" + str(x) + \" apples\""
   ]
  },
  {
   "cell_type": "code",
   "execution_count": null,
   "id": "cb5a3589-1e1d-4fd1-be0f-00b718bcca30",
   "metadata": {},
   "outputs": [],
   "source": []
  }
 ],
 "metadata": {
  "kernelspec": {
   "display_name": "Python 3 (ipykernel)",
   "language": "python",
   "name": "python3"
  },
  "language_info": {
   "codemirror_mode": {
    "name": "ipython",
    "version": 3
   },
   "file_extension": ".py",
   "mimetype": "text/x-python",
   "name": "python",
   "nbconvert_exporter": "python",
   "pygments_lexer": "ipython3",
   "version": "3.11.1"
  }
 },
 "nbformat": 4,
 "nbformat_minor": 5
}
